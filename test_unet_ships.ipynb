{
  "nbformat": 4,
  "nbformat_minor": 0,
  "metadata": {
    "colab": {
      "provenance": []
    },
    "kernelspec": {
      "name": "python3",
      "display_name": "Python 3"
    },
    "language_info": {
      "name": "python"
    }
  },
  "cells": [
    {
      "cell_type": "code",
      "source": [
        "import tensorflow as tf\n",
        "print(tf.__version__)\n",
        "\n",
        "import pandas as pd\n",
        "import numpy as np\n",
        "import matplotlib.pyplot as plt\n",
        "from PIL import Image\n",
        "import os\n",
        "import seaborn as sns\n",
        "from sklearn.model_selection import train_test_split\n",
        "from tensorflow.keras.preprocessing.image import ImageDataGenerator\n",
        "from tensorflow.keras.callbacks import ModelCheckpoint\n",
        "from tensorflow.keras.losses import binary_crossentropy\n",
        "from tensorflow.keras import layers, models\n",
        "import tensorflow.keras.backend as K\n",
        "from skimage.measure import label\n",
        "from sklearn.utils import shuffle\n",
        "import tensorflow"
      ],
      "metadata": {
        "id": "AD98AvnATAob"
      },
      "execution_count": null,
      "outputs": []
    },
    {
      "cell_type": "code",
      "execution_count": null,
      "metadata": {
        "id": "lBw0YMrDS92w"
      },
      "outputs": [],
      "source": [
        "# custom loss functions\n",
        "def dice_coeff(target, pred):\n",
        "  smooth = 1.0\n",
        "  intersection = K.sum(target * pred, axis=[1,2,3])\n",
        "  union = K.sum(target, axis=[1,2,3]) + K.sum(pred, axis=[1,2,3])\n",
        "  return K.mean( (2. * intersection + smooth) / (union + smooth), axis=0)\n",
        "  # return ((2*((pred*target).sum()))+smooth) / (pred.sum()+target.sum()+smooth)\n",
        "\n",
        "def loss(target, pred):\n",
        "  bce = binary_crossentropy(target, pred)\n",
        "  dice_loss = 1-dice_coeff(target, pred)\n",
        "  return bce-tf.math.log(1-dice_loss)\n",
        "\n",
        "\n",
        "\n",
        "U_Net = tensorflow.keras.models.load_model(\"/kaggle/working/model1.h5\" , custom_objects={'loss': loss, 'dice_coeff': dice_coeff})\n",
        "\n",
        "path_to_img = PATH+'/train_v2/'+'02776139a.jpg' \n",
        "\n",
        "x = []\n",
        "img_test = x.append(np.asarray(Image.open(path_to_img), dtype=np.float32))\n",
        "x = np.stack(x, axis=0)\n",
        "y = U_Net.predict(x)\n",
        "\n",
        "f, ax = plt.subplots(1, 1, figsize=(8, 6))\n",
        "ax.imshow(y[0], cmap='gray')"
      ]
    }
  ]
}